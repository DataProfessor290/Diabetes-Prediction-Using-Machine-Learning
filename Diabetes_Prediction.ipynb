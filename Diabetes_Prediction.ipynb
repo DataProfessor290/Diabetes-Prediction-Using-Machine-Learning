{
 "cells": [
  {
   "cell_type": "markdown",
   "id": "dd3b9f82-a383-48a5-9142-99f3e67048da",
   "metadata": {},
   "source": [
    "# **DIABETES PREDICTION PROJECT**"
   ]
  },
  {
   "cell_type": "code",
   "execution_count": 1,
   "id": "0964c3bf-5768-488f-b457-4710b82d5125",
   "metadata": {},
   "outputs": [],
   "source": [
    "path = r\"C:\\Users\\user\\Desktop\\Projects\\Diabetes Project\\diabetes_dataset_with_notes.csv\""
   ]
  },
  {
   "cell_type": "code",
   "execution_count": 42,
   "id": "d45c697a-5b3b-4d25-a675-10a9317890be",
   "metadata": {},
   "outputs": [],
   "source": [
    "# Importing necessary libraries\n",
    "import pandas as pd  \n",
    "import matplotlib.pyplot as plt  \n",
    "import seaborn as sns  \n",
    "\n",
    "# Handling imbalanced datasets\n",
    "from imblearn.under_sampling import RandomUnderSampler  \n",
    "\n",
    "# Model training and preprocessing\n",
    "from sklearn.model_selection import train_test_split  \n",
    "from sklearn.pipeline import Pipeline  \n",
    "from sklearn.impute import SimpleImputer  \n",
    "from sklearn.preprocessing import StandardScaler, OrdinalEncoder  \n",
    "from sklearn.compose import ColumnTransformer  \n",
    "\n",
    "# Machine Learning models\n",
    "from sklearn.ensemble import RandomForestClassifier  \n",
    "from sklearn.linear_model import LogisticRegression  \n",
    "from xgboost import XGBClassifier  \n",
    "\n",
    "# Model evaluation metrics\n",
    "from sklearn.metrics import f1_score, confusion_matrix, classification_report  \n"
   ]
  },
  {
   "cell_type": "code",
   "execution_count": 70,
   "id": "df1a076a-d63f-45e8-ade6-81335aaaad50",
   "metadata": {},
   "outputs": [],
   "source": [
    "# Loading the dataset from the specified path\n",
    "df = pd.read_csv(path)\n"
   ]
  },
  {
   "cell_type": "code",
   "execution_count": 71,
   "id": "fd9eb321-687c-4301-a98e-b1ff5f8947e1",
   "metadata": {},
   "outputs": [
    {
     "data": {
      "text/plain": [
       "Index(['year', 'gender', 'age', 'location', 'race:AfricanAmerican',\n",
       "       'race:Asian', 'race:Caucasian', 'race:Hispanic', 'race:Other',\n",
       "       'hypertension', 'heart_disease', 'smoking_history', 'bmi',\n",
       "       'hbA1c_level', 'blood_glucose_level', 'diabetes', 'clinical_notes'],\n",
       "      dtype='object')"
      ]
     },
     "execution_count": 71,
     "metadata": {},
     "output_type": "execute_result"
    }
   ],
   "source": [
    "# Displaying the column names of the dataframe\n",
    "df.columns\n"
   ]
  },
  {
   "cell_type": "code",
   "execution_count": 72,
   "id": "a9318802-bc9e-44a6-8e95-5b0490652ef5",
   "metadata": {},
   "outputs": [
    {
     "data": {
      "text/plain": [
       "(100000, 17)"
      ]
     },
     "execution_count": 72,
     "metadata": {},
     "output_type": "execute_result"
    }
   ],
   "source": [
    "# Displaying the number of rows and columns in the dataframe\n",
    "df.shape\n"
   ]
  },
  {
   "cell_type": "code",
   "execution_count": 73,
   "id": "ef0f3d9e-bc8b-43ac-8338-2e1ac8fde035",
   "metadata": {},
   "outputs": [],
   "source": [
    "# Converting all column names to lowercase\n",
    "df.columns = df.columns.str.lower()\n",
    "\n",
    "# Removing any leading or trailing whitespace from column names\n",
    "df.columns = df.columns.str.strip()\n"
   ]
  },
  {
   "cell_type": "code",
   "execution_count": 74,
   "id": "8e9ea1c6-fafe-4af8-a646-031280383c8f",
   "metadata": {},
   "outputs": [
    {
     "data": {
      "text/html": [
       "<div>\n",
       "<style scoped>\n",
       "    .dataframe tbody tr th:only-of-type {\n",
       "        vertical-align: middle;\n",
       "    }\n",
       "\n",
       "    .dataframe tbody tr th {\n",
       "        vertical-align: top;\n",
       "    }\n",
       "\n",
       "    .dataframe thead th {\n",
       "        text-align: right;\n",
       "    }\n",
       "</style>\n",
       "<table border=\"1\" class=\"dataframe\">\n",
       "  <thead>\n",
       "    <tr style=\"text-align: right;\">\n",
       "      <th></th>\n",
       "      <th>year</th>\n",
       "      <th>gender</th>\n",
       "      <th>age</th>\n",
       "      <th>location</th>\n",
       "      <th>race:africanamerican</th>\n",
       "      <th>race:asian</th>\n",
       "      <th>race:caucasian</th>\n",
       "      <th>race:hispanic</th>\n",
       "      <th>race:other</th>\n",
       "      <th>hypertension</th>\n",
       "      <th>heart_disease</th>\n",
       "      <th>smoking_history</th>\n",
       "      <th>bmi</th>\n",
       "      <th>hba1c_level</th>\n",
       "      <th>blood_glucose_level</th>\n",
       "      <th>diabetes</th>\n",
       "      <th>clinical_notes</th>\n",
       "    </tr>\n",
       "  </thead>\n",
       "  <tbody>\n",
       "    <tr>\n",
       "      <th>0</th>\n",
       "      <td>2020</td>\n",
       "      <td>Female</td>\n",
       "      <td>32.0</td>\n",
       "      <td>Alabama</td>\n",
       "      <td>0</td>\n",
       "      <td>0</td>\n",
       "      <td>0</td>\n",
       "      <td>0</td>\n",
       "      <td>1</td>\n",
       "      <td>0</td>\n",
       "      <td>0</td>\n",
       "      <td>never</td>\n",
       "      <td>27.32</td>\n",
       "      <td>5.0</td>\n",
       "      <td>100</td>\n",
       "      <td>0</td>\n",
       "      <td>Overweight, advised dietary and exercise modif...</td>\n",
       "    </tr>\n",
       "    <tr>\n",
       "      <th>1</th>\n",
       "      <td>2015</td>\n",
       "      <td>Female</td>\n",
       "      <td>29.0</td>\n",
       "      <td>Alabama</td>\n",
       "      <td>0</td>\n",
       "      <td>1</td>\n",
       "      <td>0</td>\n",
       "      <td>0</td>\n",
       "      <td>0</td>\n",
       "      <td>0</td>\n",
       "      <td>0</td>\n",
       "      <td>never</td>\n",
       "      <td>19.95</td>\n",
       "      <td>5.0</td>\n",
       "      <td>90</td>\n",
       "      <td>0</td>\n",
       "      <td>Healthy BMI range.</td>\n",
       "    </tr>\n",
       "    <tr>\n",
       "      <th>2</th>\n",
       "      <td>2015</td>\n",
       "      <td>Male</td>\n",
       "      <td>18.0</td>\n",
       "      <td>Alabama</td>\n",
       "      <td>0</td>\n",
       "      <td>0</td>\n",
       "      <td>0</td>\n",
       "      <td>0</td>\n",
       "      <td>1</td>\n",
       "      <td>0</td>\n",
       "      <td>0</td>\n",
       "      <td>never</td>\n",
       "      <td>23.76</td>\n",
       "      <td>4.8</td>\n",
       "      <td>160</td>\n",
       "      <td>0</td>\n",
       "      <td>Young patient, generally lower risk but needs ...</td>\n",
       "    </tr>\n",
       "    <tr>\n",
       "      <th>3</th>\n",
       "      <td>2015</td>\n",
       "      <td>Male</td>\n",
       "      <td>41.0</td>\n",
       "      <td>Alabama</td>\n",
       "      <td>0</td>\n",
       "      <td>0</td>\n",
       "      <td>1</td>\n",
       "      <td>0</td>\n",
       "      <td>0</td>\n",
       "      <td>0</td>\n",
       "      <td>0</td>\n",
       "      <td>never</td>\n",
       "      <td>27.32</td>\n",
       "      <td>4.0</td>\n",
       "      <td>159</td>\n",
       "      <td>0</td>\n",
       "      <td>Overweight, advised dietary and exercise modif...</td>\n",
       "    </tr>\n",
       "    <tr>\n",
       "      <th>4</th>\n",
       "      <td>2016</td>\n",
       "      <td>Female</td>\n",
       "      <td>52.0</td>\n",
       "      <td>Alabama</td>\n",
       "      <td>1</td>\n",
       "      <td>0</td>\n",
       "      <td>0</td>\n",
       "      <td>0</td>\n",
       "      <td>0</td>\n",
       "      <td>0</td>\n",
       "      <td>0</td>\n",
       "      <td>never</td>\n",
       "      <td>23.75</td>\n",
       "      <td>6.5</td>\n",
       "      <td>90</td>\n",
       "      <td>0</td>\n",
       "      <td>Healthy BMI range. High HbA1c level, indicativ...</td>\n",
       "    </tr>\n",
       "  </tbody>\n",
       "</table>\n",
       "</div>"
      ],
      "text/plain": [
       "   year  gender   age location  race:africanamerican  race:asian  \\\n",
       "0  2020  Female  32.0  Alabama                     0           0   \n",
       "1  2015  Female  29.0  Alabama                     0           1   \n",
       "2  2015    Male  18.0  Alabama                     0           0   \n",
       "3  2015    Male  41.0  Alabama                     0           0   \n",
       "4  2016  Female  52.0  Alabama                     1           0   \n",
       "\n",
       "   race:caucasian  race:hispanic  race:other  hypertension  heart_disease  \\\n",
       "0               0              0           1             0              0   \n",
       "1               0              0           0             0              0   \n",
       "2               0              0           1             0              0   \n",
       "3               1              0           0             0              0   \n",
       "4               0              0           0             0              0   \n",
       "\n",
       "  smoking_history    bmi  hba1c_level  blood_glucose_level  diabetes  \\\n",
       "0           never  27.32          5.0                  100         0   \n",
       "1           never  19.95          5.0                   90         0   \n",
       "2           never  23.76          4.8                  160         0   \n",
       "3           never  27.32          4.0                  159         0   \n",
       "4           never  23.75          6.5                   90         0   \n",
       "\n",
       "                                      clinical_notes  \n",
       "0  Overweight, advised dietary and exercise modif...  \n",
       "1                                 Healthy BMI range.  \n",
       "2  Young patient, generally lower risk but needs ...  \n",
       "3  Overweight, advised dietary and exercise modif...  \n",
       "4  Healthy BMI range. High HbA1c level, indicativ...  "
      ]
     },
     "execution_count": 74,
     "metadata": {},
     "output_type": "execute_result"
    }
   ],
   "source": [
    "# Display the first five rows of the dataframe\n",
    "df.head()\n"
   ]
  },
  {
   "cell_type": "code",
   "execution_count": 75,
   "id": "a5280c48-7693-45af-b536-8d444954af73",
   "metadata": {},
   "outputs": [
    {
     "name": "stdout",
     "output_type": "stream",
     "text": [
      "<class 'pandas.core.frame.DataFrame'>\n",
      "RangeIndex: 100000 entries, 0 to 99999\n",
      "Data columns (total 17 columns):\n",
      " #   Column                Non-Null Count   Dtype  \n",
      "---  ------                --------------   -----  \n",
      " 0   year                  100000 non-null  int64  \n",
      " 1   gender                100000 non-null  object \n",
      " 2   age                   100000 non-null  float64\n",
      " 3   location              100000 non-null  object \n",
      " 4   race:africanamerican  100000 non-null  int64  \n",
      " 5   race:asian            100000 non-null  int64  \n",
      " 6   race:caucasian        100000 non-null  int64  \n",
      " 7   race:hispanic         100000 non-null  int64  \n",
      " 8   race:other            100000 non-null  int64  \n",
      " 9   hypertension          100000 non-null  int64  \n",
      " 10  heart_disease         100000 non-null  int64  \n",
      " 11  smoking_history       100000 non-null  object \n",
      " 12  bmi                   100000 non-null  float64\n",
      " 13  hba1c_level           100000 non-null  float64\n",
      " 14  blood_glucose_level   100000 non-null  int64  \n",
      " 15  diabetes              100000 non-null  int64  \n",
      " 16  clinical_notes        100000 non-null  object \n",
      "dtypes: float64(3), int64(10), object(4)\n",
      "memory usage: 13.0+ MB\n"
     ]
    }
   ],
   "source": [
    "# Display concise summary of the dataframe, including non-null values and data types\n",
    "df.info()\n"
   ]
  },
  {
   "cell_type": "code",
   "execution_count": 76,
   "id": "11e75839-95dd-41df-b3fc-37c4fcddc51b",
   "metadata": {},
   "outputs": [
    {
     "data": {
      "text/plain": [
       "True"
      ]
     },
     "execution_count": 76,
     "metadata": {},
     "output_type": "execute_result"
    }
   ],
   "source": [
    "# Check if there are any duplicate rows in the dataframe\n",
    "df.duplicated().any()\n"
   ]
  },
  {
   "cell_type": "code",
   "execution_count": 77,
   "id": "0e7ae8d6-9bb3-4af3-8360-133c144ea969",
   "metadata": {},
   "outputs": [
    {
     "data": {
      "text/plain": [
       "14"
      ]
     },
     "execution_count": 77,
     "metadata": {},
     "output_type": "execute_result"
    }
   ],
   "source": [
    "# Count the total number of duplicate rows in the dataframe\n",
    "df.duplicated().sum()\n"
   ]
  },
  {
   "cell_type": "code",
   "execution_count": 78,
   "id": "0b3d0ae8-c0dc-49cb-8d9a-6af28d8c2a27",
   "metadata": {},
   "outputs": [],
   "source": [
    "# Drop all duplicate rows from the dataframe and update it in place\n",
    "df.drop_duplicates(inplace=True)\n"
   ]
  },
  {
   "cell_type": "code",
   "execution_count": 79,
   "id": "727b0d33-94b9-4472-8e4f-18ab295d56a2",
   "metadata": {},
   "outputs": [
    {
     "data": {
      "text/plain": [
       "year                    False\n",
       "gender                  False\n",
       "age                     False\n",
       "location                False\n",
       "race:africanamerican    False\n",
       "race:asian              False\n",
       "race:caucasian          False\n",
       "race:hispanic           False\n",
       "race:other              False\n",
       "hypertension            False\n",
       "heart_disease           False\n",
       "smoking_history         False\n",
       "bmi                     False\n",
       "hba1c_level             False\n",
       "blood_glucose_level     False\n",
       "diabetes                False\n",
       "clinical_notes          False\n",
       "dtype: bool"
      ]
     },
     "execution_count": 79,
     "metadata": {},
     "output_type": "execute_result"
    }
   ],
   "source": [
    "# Check for the presence of missing values in each column of the dataframe\n",
    "df.isna().any()\n"
   ]
  },
  {
   "cell_type": "code",
   "execution_count": 80,
   "id": "cca7bcdb-d5d5-40ec-a16c-e8c935cccfcf",
   "metadata": {},
   "outputs": [
    {
     "data": {
      "text/plain": [
       "gender\n",
       "Female    58546\n",
       "Male      41422\n",
       "Other        18\n",
       "Name: count, dtype: int64"
      ]
     },
     "execution_count": 80,
     "metadata": {},
     "output_type": "execute_result"
    }
   ],
   "source": [
    "# Count the occurrences of each unique value in the 'gender' column\n",
    "df['gender'].value_counts()\n"
   ]
  },
  {
   "cell_type": "code",
   "execution_count": 81,
   "id": "8647dce1-6d87-4b97-b6da-18c64dff6a8b",
   "metadata": {},
   "outputs": [],
   "source": [
    "# Encode categorical values in the 'gender' column: \n",
    "# 'Male' as 1, 'Female' as 0, and 'Other' as 3\n",
    "df['gender'] = df['gender'].replace({\"Male\": 1, \"Female\": 0, \"Other\": 3})\n"
   ]
  },
  {
   "cell_type": "code",
   "execution_count": 82,
   "id": "5d41f882-1724-4636-883e-ea84a862db31",
   "metadata": {},
   "outputs": [
    {
     "data": {
      "text/plain": [
       "smoking_history\n",
       "No Info        35806\n",
       "never          35091\n",
       "former          9352\n",
       "current         9286\n",
       "not current     6447\n",
       "ever            4004\n",
       "Name: count, dtype: int64"
      ]
     },
     "execution_count": 82,
     "metadata": {},
     "output_type": "execute_result"
    }
   ],
   "source": [
    "# Display the count of each unique value in the 'smoking_history' column\n",
    "df['smoking_history'].value_counts()\n"
   ]
  },
  {
   "cell_type": "code",
   "execution_count": 83,
   "id": "f2475011-97ec-42fb-b550-2e62a07fb600",
   "metadata": {},
   "outputs": [
    {
     "data": {
      "image/png": "[encoded data removed]",
      "text/plain": [
       "<Figure size 640x480 with 1 Axes>"
      ]
     },
     "metadata": {},
     "output_type": "display_data"
    }
   ],
   "source": [
    "# Create a count plot to visualize the distribution of smoking history\n",
    "sns.countplot(x=df['smoking_history'])\n",
    "\n",
    "# Set the title of the plot\n",
    "plt.title('Smoking History Distribution')\n",
    "\n",
    "# Label the x-axis\n",
    "plt.xlabel('Smoking History')\n",
    "\n",
    "# Label the y-axis\n",
    "plt.ylabel('Count')\n",
    "\n",
    "# Display the plot\n",
    "plt.show()\n"
   ]
  },
  {
   "cell_type": "code",
   "execution_count": 84,
   "id": "c91a41c1-47c3-42d6-8e16-1a9b5e5604d1",
   "metadata": {},
   "outputs": [
    {
     "data": {
      "text/plain": [
       "diabetes\n",
       "0    91486\n",
       "1     8500\n",
       "Name: count, dtype: int64"
      ]
     },
     "execution_count": 84,
     "metadata": {},
     "output_type": "execute_result"
    }
   ],
   "source": [
    "# Display the count of unique values in the 'diabetes' column\n",
    "df['diabetes'].value_counts()\n"
   ]
  },
  {
   "cell_type": "code",
   "execution_count": 85,
   "id": "5cf9df1e-7f4f-440e-a68d-5e38ec0ca7b9",
   "metadata": {},
   "outputs": [
    {
     "data": {
      "image/png": "[encoded data removed]",
      "text/plain": [
       "<Figure size 640x480 with 1 Axes>"
      ]
     },
     "metadata": {},
     "output_type": "display_data"
    }
   ],
   "source": [
    "# Create a count plot to visualize the distribution of the 'diabetes' column\n",
    "sns.countplot(df, x=df['diabetes'])\n",
    "plt.title(\"Diabetes Distribution\")  # Set the title of the plot\n",
    "plt.xlabel(\"Diabetes\")  # Label the x-axis\n",
    "plt.ylabel(\"Count\")  # Label the y-axis\n",
    "plt.show()  # Display the plot"
   ]
  },
  {
   "cell_type": "code",
   "execution_count": 86,
   "id": "a506e6d3-a028-4b4a-9959-f9b4ffca185b",
   "metadata": {},
   "outputs": [],
   "source": [
    "# Drop the 'clinical_notes' column from the dataframe\n",
    "df.drop(\"clinical_notes\", axis=1, inplace=True)\n"
   ]
  },
  {
   "cell_type": "code",
   "execution_count": 87,
   "id": "c7acae42-bf6b-40b3-8090-b559a74163a2",
   "metadata": {},
   "outputs": [],
   "source": [
    "# Define features (X) by dropping the target variable 'diabetes'\n",
    "x = df.drop('diabetes', axis=1)\n",
    "\n",
    "# Define the target variable (y) as 'diabetes'\n",
    "y = df['diabetes']\n"
   ]
  },
  {
   "cell_type": "code",
   "execution_count": 88,
   "id": "2660d029-b662-479e-aac1-456215157944",
   "metadata": {},
   "outputs": [],
   "source": [
    "# Apply random undersampling to balance the dataset\n",
    "sampler = RandomUnderSampler()\n",
    "\n",
    "# Resample the features (X) and target variable (y)\n",
    "resampled_x, resampled_y = sampler.fit_resample(x, y)\n"
   ]
  },
  {
   "cell_type": "code",
   "execution_count": 89,
   "id": "5e84628b-f173-4d7e-96b1-524f88847883",
   "metadata": {},
   "outputs": [
    {
     "data": {
      "text/plain": [
       "diabetes\n",
       "0    8500\n",
       "1    8500\n",
       "Name: count, dtype: int64"
      ]
     },
     "execution_count": 89,
     "metadata": {},
     "output_type": "execute_result"
    }
   ],
   "source": [
    "# Check the distribution of the target variable after undersampling\n",
    "resampled_y.value_counts()\n"
   ]
  },
  {
   "cell_type": "code",
   "execution_count": 90,
   "id": "5e6fabbf-8917-4e96-90cf-4d3a316371ea",
   "metadata": {},
   "outputs": [],
   "source": [
    "# Function to split dataset columns into numerical and categorical columns\n",
    "def split_cols(data):\n",
    "    data = data.copy()  # Create a copy of the dataset to avoid modifying the original data\n",
    "    numeric_columns = data.select_dtypes(include=['number']).columns  # Select numerical columns\n",
    "    categorical_columns = data.select_dtypes(include=['object']).columns  # Select categorical columns\n",
    "    return numeric_columns, categorical_columns  # Return the separated columns\n"
   ]
  },
  {
   "cell_type": "code",
   "execution_count": 91,
   "id": "9b822929-933e-4502-b71b-05a7b28dfe7c",
   "metadata": {},
   "outputs": [],
   "source": [
    "# Splitting the dataset into numerical and categorical columns\n",
    "num_cols, cat_cols = split_cols(x)\n"
   ]
  },
  {
   "cell_type": "code",
   "execution_count": 92,
   "id": "1d80601f-dd5b-4106-acef-253a160d2b98",
   "metadata": {},
   "outputs": [],
   "source": [
    "# Creating a pipeline for numerical columns\n",
    "num_pipe = Pipeline([\n",
    "    (\"imputer\", SimpleImputer(strategy='median')),  # Handling missing values with median imputation\n",
    "    (\"scaler\", StandardScaler())  # Standardizing numerical features\n",
    "])\n",
    "\n",
    "# Creating a pipeline for categorical columns\n",
    "cat_pipe = Pipeline([\n",
    "    (\"imputer\", SimpleImputer(strategy='most_frequent')),  # Handling missing values with most frequent strategy\n",
    "    (\"scaler\", OrdinalEncoder(handle_unknown='use_encoded_value', unknown_value=-1))  # Encoding categorical variables\n",
    "])\n",
    "\n",
    "# Combining both pipelines into a ColumnTransformer\n",
    "processor = ColumnTransformer(\n",
    "    transformers=[\n",
    "        (\"num_pipe\", num_pipe, num_cols),  # Applying numerical pipeline to numerical columns\n",
    "        (\"cat_pipe\", cat_pipe, cat_cols)  # Applying categorical pipeline to categorical columns\n",
    "    ],\n",
    "    remainder='passthrough'  # Keeping any remaining columns as they are\n",
    ")\n"
   ]
  },
  {
   "cell_type": "code",
   "execution_count": 93,
   "id": "fab71b0c-4408-4edb-9c9a-1172d4fd83c0",
   "metadata": {},
   "outputs": [],
   "source": [
    "# Splitting the dataset into training and testing sets\n",
    "x_train, x_test, y_train, y_test = train_test_split(\n",
    "    resampled_x,  # Feature variables\n",
    "    resampled_y,  # Target variable\n",
    "    test_size=0.2,  # 20% of the data is used for testing\n",
    "    random_state=42  # Ensuring reproducibility of results\n",
    ")\n"
   ]
  },
  {
   "cell_type": "markdown",
   "id": "dba2ed46-56d2-4e82-9c42-cc05f0a4abf6",
   "metadata": {},
   "source": [
    "# **RANDOM FOREST MODEL**"
   ]
  },
  {
   "cell_type": "code",
   "execution_count": 94,
   "id": "71903f9d-b152-4227-885f-085fc2be3a3b",
   "metadata": {},
   "outputs": [],
   "source": [
    "# Creating a pipeline for the Random Forest model\n",
    "rf_pipe = Pipeline([\n",
    "    (\"processor\", processor),  # Preprocessing step including imputation, scaling, and encoding\n",
    "    (\"rf_model\", RandomForestClassifier())  # Random Forest classifier\n",
    "])\n",
    "\n",
    "# Training the Random Forest model with the training data\n",
    "rf_model = rf_pipe.fit(x_train, y_train)\n"
   ]
  },
  {
   "cell_type": "code",
   "execution_count": 95,
   "id": "9625ac1e-e530-441a-8306-a5fc2f89ea16",
   "metadata": {},
   "outputs": [
    {
     "name": "stdout",
     "output_type": "stream",
     "text": [
      "                Features  Importance\n",
      "11       smoking_history    0.329144\n",
      "12                   bmi    0.240532\n",
      "2                    age    0.160424\n",
      "10         heart_disease    0.099466\n",
      "13           hba1c_level    0.053029\n",
      "14   blood_glucose_level    0.031293\n",
      "8             race:other    0.026626\n",
      "9           hypertension    0.016316\n",
      "0                   year    0.010215\n",
      "1                 gender    0.008039\n",
      "4   race:africanamerican    0.005187\n",
      "6         race:caucasian    0.005160\n",
      "3               location    0.005106\n",
      "5             race:asian    0.004897\n",
      "7          race:hispanic    0.004565\n"
     ]
    }
   ],
   "source": [
    "# Extracting feature importance from the trained Random Forest model\n",
    "rf_importance = rf_model.named_steps['rf_model'].feature_importances_\n",
    "\n",
    "# Creating a DataFrame to store feature names and their corresponding importance scores\n",
    "rf_importance_df = pd.DataFrame(\n",
    "    {\"Features\": x.columns, \"Importance\": rf_importance}\n",
    ")\n",
    "\n",
    "# Sorting the features by importance in descending order and displaying the result\n",
    "print(rf_importance_df.sort_values(by='Importance', ascending=False))\n"
   ]
  },
  {
   "cell_type": "markdown",
   "id": "f2134e54-5e4f-4472-a3d4-eead3e462934",
   "metadata": {},
   "source": [
    "## **Feature Importance Interpretation (Random Forest Model)**  \r\n",
    "\r\n",
    "The feature importance values represent how much each variable contributes to the predictive power of the **Random Forest model**. Higher values indicate more significant features, while lower values suggest less influence.\r\n",
    "\r\n",
    "---\r\n",
    "\r\n",
    "### **Key Findings:**\r\n",
    "\r\n",
    "#### **1. Smoking History (0.3291) - Most Important Feature**  \r\n",
    "- Smoking history is the strongest predictor in this model, contributing **32.91%** to the model’s decision-making.\r\n",
    "- This suggests a **strong correlation** between smoking and the target variable (likely a health-related outcome).\r\n",
    "\r\n",
    "#### **2. BMI (0.2405) - Second Most Important**  \r\n",
    "- BMI (Body Mass Index) is the second most influential factor, contributing **24.05%**.\r\n",
    "- This aligns with expectations since BMI is a well-known risk factor for various health conditions, including diabetes and cardiovascular diseases.\r\n",
    "\r\n",
    "#### **3. Age (0.1604) - Third Most Important**  \r\n",
    "- Age contributes **16.04%** to the model.\r\n",
    "- This highlights that **older individuals** may be at higher risk for the outcome being predicted.\r\n",
    "\r\n",
    "#### **4. Heart Disease (0.0995)**  \r\n",
    "- Heart disease plays a noticeable role (**9.95%** importance).\r\n",
    "- This suggests a **moderate correlation** between heart disease and the target variable.\r\n",
    "\r\n",
    "#### **5. HbA1c Level (0.0530) & Blood Glucose Level (0.0313)**  \r\n",
    "- Both **HbA1c** (long-term blood sugar measurement) and **blood glucose levels** are relevant but not as dominant.\r\n",
    "- These factors are still crucial for conditions like **diabetes**, but the model finds smoking, BMI, and age more predictive.\r\n",
    "\r\n",
    "#### **6. Race and Hypertension**  \r\n",
    "- **Race (various categories: 0.0045 - 0.0266)**  \r\n",
    "  - Race seems to have some impact, but it’s relatively low in importance.\r\n",
    "  - **Race: Other (2.66%)** shows the highest impact among race variables.  \r\n",
    "- **Hypertension (1.63%)**  \r\n",
    "  - Plays a smaller role than expected, which may indicate that **hypertension alone isn’t a primary driver** for the target variable.\r\n",
    "\r\n",
    "#### **7. Year (0.0102%) & Gender (0.0080%) - Least Important**  \r\n",
    "- The year of observation and gender contribute **minimal influence**, suggesting they have little effect on the model’s prediction.\r\n",
    "\r\n",
    "---\r\n",
    "\r\n",
    "### **Conclusion**\r\n",
    "- The **top three features** (**Smoking History, BMI, and Age**) are the **strongest predictors**.\r\n",
    "- **Medical factors like Heart Disease and Blood Sugar Levels** also play a role but are secondary.\r\n",
    "- **Race and Demographics have low importance**, meaning the model finds limited predictive value in these features.\r\n",
    "\r\n",
    "### **Potential Next Steps:**\r\n",
    "- **Further analysis on smoking and BMI** to understand their interaction with the target variable.\r\n",
    "- **Feature engineering** to combine medical conditions for better predictive performance.\r\n",
    "- **Consider removing low-impact features (e.g., race, gender)** to simplify the model without losing accuracy.\r\n"
   ]
  },
  {
   "cell_type": "code",
   "execution_count": 96,
   "id": "8d8b68e1-7a53-417a-af49-adbdf4bff792",
   "metadata": {},
   "outputs": [
    {
     "name": "stdout",
     "output_type": "stream",
     "text": [
      "0.9057258530942741\n",
      "              precision    recall  f1-score   support\n",
      "\n",
      "           0       0.91      0.89      0.90      1687\n",
      "           1       0.90      0.91      0.91      1713\n",
      "\n",
      "    accuracy                           0.90      3400\n",
      "   macro avg       0.90      0.90      0.90      3400\n",
      "weighted avg       0.90      0.90      0.90      3400\n",
      "\n",
      "\n",
      "[[1508  179]\n",
      " [ 147 1566]]\n"
     ]
    }
   ],
   "source": [
    "rf_predict = rf_model.predict(x_test)  # Make predictions using the trained Random Forest model\n",
    "rf_f1 = f1_score(y_test, rf_predict)   # Compute the F1-score\n",
    "rf_report = classification_report(y_test, rf_predict)  # Generate precision, recall, and F1-score\n",
    "rf_matrix = confusion_matrix(y_test, rf_predict)  # Compute the confusion matrix\n",
    "\n",
    "print(rf_f1)      # Print the F1-score\n",
    "print(rf_report)  # Print the classification report\n",
    "print()\n",
    "print(rf_matrix)  # Print the confusion matrix\n"
   ]
  },
  {
   "cell_type": "markdown",
   "id": "64c9a3dd-ef5e-4afa-a11b-42d57baf3010",
   "metadata": {},
   "source": [
    "# **Random Forest Model Performance Report**\n",
    "\n",
    "## **Model Performance Summary**  \n",
    "The **Random Forest model** achieved an **F1-score of 90.6%**, indicating strong overall performance. The model effectively distinguishes between the two classes, with a well-balanced precision and recall.  \n",
    "\n",
    "---\n",
    "\n",
    "## **Performance Metrics**  \n",
    "\n",
    "| Metric      | Class 0 | Class 1 |\n",
    "|------------|---------|---------|\n",
    "| **Precision** | 91% | 90% |\n",
    "| **Recall**    | 89% | 91% |\n",
    "| **F1-score**  | 90% | 91% |\n",
    "\n",
    "### **Key Takeaways:**  \n",
    "- **Precision:**  \n",
    "  - Class 0: **91%** → When predicting class 0, it's correct **91% of the time**.  \n",
    "  - Class 1: **90%** → When predicting class 1, it's correct **90% of the time**.  \n",
    "- **Recall:**  \n",
    "  - Class 0: **89%** → The model correctly identifies **89% of actual class 0 instances**.  \n",
    "  - Class 1: **91%** → The model correctly identifies **91% of actual class 1 instances**.  \n",
    "- **F1-score:**  \n",
    "  - Both **90% and 91%** indicate a **good balance** between precision and recall.  \n",
    "\n",
    "---\n",
    "\n",
    "## **Confusion Matrix Analysis**  \n",
    "\n",
    "\n",
    "### **Interpretation:**  \n",
    "- **True Positives (TP = 1566)** → Model correctly predicted class 1.  \n",
    "- **True Negatives (TN = 1508)** → Model correctly predicted class 0.  \n",
    "- **False Positives (FP = 179)** → Model incorrectly predicted class 1 when it was actually class 0.  \n",
    "- **False Negatives (FN = 147)** → Model incorrectly predicted class 0 when it was actually class 1.  \n",
    "\n",
    "### **Observations:**  \n",
    "- The **false negative rate (147 cases)** suggests that some actual class 1 instances were **missed**.  \n",
    "- The **false positive rate (179 cases)** indicates some misclassification of class 0 as class 1.  \n",
    "\n",
    "---\n",
    "\n",
    "## **Conclusion & Next Steps**  \n",
    "The model performs well, but there is **room for improvement**, especially in reducing **false negatives** and **false positives**. Some potential improvements include:  \n",
    "\n",
    "✅ **Hyperparameter tuning** – Adjusting tree depth, number of estimators, and feature selection.  \n",
    "✅ **Feature engineering** – Creating better predictors to improve classification.  \n",
    "✅ **Handling class imbalance** – Experimenting with different resampling techniques.  \n",
    "\n",
    "Overall, the model is **well-optimized** and provides **strong predictive performance** with a **90.6% F1-score**. \n"
   ]
  },
  {
   "cell_type": "markdown",
   "id": "b542ca0b-6056-4ecf-9ad6-23c8def8e0ec",
   "metadata": {},
   "source": [
    "# **LOGISTIC REGRESSION MODEL**"
   ]
  },
  {
   "cell_type": "code",
   "execution_count": 97,
   "id": "b2aa2a0a-1081-4229-b631-e0e53f44c229",
   "metadata": {},
   "outputs": [],
   "source": [
    "# Create a pipeline for the Logistic Regression model\n",
    "lr_pipe = Pipeline([\n",
    "    (\"processor\", processor),  # Apply preprocessing steps (numerical & categorical transformations)\n",
    "    (\"lr_model\", LogisticRegression())  # Train a Logistic Regression model\n",
    "])\n",
    "\n",
    "# Fit the Logistic Regression model to the training data\n",
    "lr_model = lr_pipe.fit(x_train, y_train)\n"
   ]
  },
  {
   "cell_type": "code",
   "execution_count": 98,
   "id": "47428b60-96dc-44a9-91ab-6696db14e7db",
   "metadata": {},
   "outputs": [
    {
     "name": "stdout",
     "output_type": "stream",
     "text": [
      "                Features  Coefficients\n",
      "11       smoking_history      2.720729\n",
      "12                   bmi      1.728661\n",
      "2                    age      1.091954\n",
      "10         heart_disease      0.705926\n",
      "8             race:other      0.328663\n",
      "9           hypertension      0.260299\n",
      "1                 gender      0.141438\n",
      "14   blood_glucose_level      0.082727\n",
      "5             race:asian      0.045137\n",
      "6         race:caucasian      0.018914\n",
      "3               location      0.016362\n",
      "13           hba1c_level     -0.000982\n",
      "4   race:africanamerican     -0.032237\n",
      "0                   year     -0.043378\n",
      "7          race:hispanic     -0.047888\n"
     ]
    }
   ],
   "source": [
    "# Extract the coefficients from the trained Logistic Regression model\n",
    "lr_coefficients = lr_model.named_steps['lr_model'].coef_.flatten()\n",
    "\n",
    "# Create a DataFrame to store feature names and their corresponding coefficients\n",
    "coefficient_df = pd.DataFrame(\n",
    "    {\"Features\": x.columns, \"Coefficients\": lr_coefficients}\n",
    ")\n",
    "\n",
    "# Sort the coefficients in descending order to identify the most influential features\n",
    "print(coefficient_df.sort_values(by='Coefficients', ascending=False))\n"
   ]
  },
  {
   "cell_type": "markdown",
   "id": "69e59bc6-d0aa-4088-b791-dbb0cc3d2e2e",
   "metadata": {},
   "source": [
    "## **Logistic Regression Feature Coefficients**\r\n",
    "\r\n",
    "### **Interpretation**\r\n",
    "- **Smoking History (2.72)**: The strongest positive predictor, meaning individuals with a smoking history are significantly more likely to experience the target outcome.\r\n",
    "- **BMI (1.73) and Age (1.09)**: These also have strong positive impacts, indicating that as BMI and age increase, the probability of the target outcome rises.\r\n",
    "- **Heart Disease (0.71), Hypertension (0.26)**: These factors contribute positively but to a lesser extent than smoking history, BMI, and age.\r\n",
    "- **Race: Other (0.33)**: Shows a moderate positive impact, meaning individuals classified under \"Other\" in race may have a slightly increased likelihood of the outcome.\r\n",
    "- **Negative Coefficients**:  \r\n",
    "  - **HbA1c Level (-0.001), Race: African American (-0.032), Year (-0.043), and Race: Hispanic (-0.048)** slightly reduce the likelihood of the target outcome.\r\n",
    "  - A negative coefficient suggests a protective or lesser influence on the predicted condition.\r\n",
    "\r\n",
    "### **Key Takeaways**\r\n",
    "- **Smoking history is the most influential factor** in predicting the outcome.\r\n",
    "- **BMI and Age** are also major contributors.\r\n",
    "- **Heart disease and hypertension** have moderate effects.\r\n",
    "- **Race and HbA1c levels appear to have minimal impact** compared to other factors.\r\n",
    "\r\n",
    "This analysis helps in understanding how different variables contribute to the logistic regression model's predictions.\r\n"
   ]
  },
  {
   "cell_type": "code",
   "execution_count": 99,
   "id": "be22a0fa-5a99-4718-9061-d713903df05a",
   "metadata": {},
   "outputs": [
    {
     "name": "stdout",
     "output_type": "stream",
     "text": [
      "0.8811881188118813\n",
      "              precision    recall  f1-score   support\n",
      "\n",
      "           0       0.88      0.88      0.88      1687\n",
      "           1       0.88      0.88      0.88      1713\n",
      "\n",
      "    accuracy                           0.88      3400\n",
      "   macro avg       0.88      0.88      0.88      3400\n",
      "weighted avg       0.88      0.88      0.88      3400\n",
      "\n",
      "\n",
      "[[1479  208]\n",
      " [ 200 1513]]\n"
     ]
    }
   ],
   "source": [
    "# Make predictions using the trained Logistic Regression model\n",
    "lr_predict = lr_model.predict(x_test)\n",
    "\n",
    "# Calculate the F1-score for model performance evaluation\n",
    "lr_f1 = f1_score(y_test, lr_predict)\n",
    "\n",
    "# Generate a detailed classification report (Precision, Recall, F1-score, Support)\n",
    "lr_report = classification_report(y_test, lr_predict)\n",
    "\n",
    "# Compute the confusion matrix to analyze true positives, false positives, true negatives, and false negatives\n",
    "lr_matrix = confusion_matrix(y_test, lr_predict)\n",
    "\n",
    "# Print the F1-score\n",
    "print(lr_f1)\n",
    "\n",
    "# Print the classification report\n",
    "print(lr_report)\n",
    "\n",
    "# Print an empty line for better readability\n",
    "print()\n",
    "\n",
    "# Print the confusion matrix\n",
    "print(lr_matrix)\n"
   ]
  },
  {
   "cell_type": "markdown",
   "id": "2885cbaf-b626-41d4-8b24-2726d1eb2f88",
   "metadata": {},
   "source": [
    "# **Logistic Regression Model Performance Analysis**\n",
    "\n",
    "## **Overview**\n",
    "The logistic regression model was evaluated on the test dataset, achieving a strong predictive performance with an **accuracy of 88.1%**. Below is a breakdown of the results.\n",
    "\n",
    "---\n",
    "\n",
    "## **Performance Metrics**\n",
    "- **Accuracy:** **88.1%**  \n",
    "- **Precision:**  \n",
    "  - **Class 0 (Negative Class):** **88%** (When the model predicts class 0, it is correct 88% of the time).  \n",
    "  - **Class 1 (Positive Class):** **88%** (When the model predicts class 1, it is correct 88% of the time).  \n",
    "- **Recall:**  \n",
    "  - **Class 0:** **88%** (88% of actual class 0 cases were correctly identified).  \n",
    "  - **Class 1:** **88%** (88% of actual class 1 cases were correctly identified).  \n",
    "- **F1-Score:**  \n",
    "  - **Class 0:** **0.88** (A balanced measure of precision and recall for class 0).  \n",
    "  - **Class 1:** **0.88** (A balanced measure of precision and recall for class 1).  \n",
    "\n",
    "---\n",
    "\n",
    "## **Confusion Matrix**\n",
    "\n",
    "### **Interpretation**\n",
    "- **True Negatives (TN) = 1479** → The model correctly classified **1479** instances as Class 0.  \n",
    "- **True Positives (TP) = 1513** → The model correctly classified **1513** instances as Class 1.  \n",
    "- **False Positives (FP) = 208** → The model incorrectly predicted **208** instances as Class 1 when they were actually Class 0.  \n",
    "- **False Negatives (FN) = 200** → The model incorrectly predicted **200** instances as Class 0 when they were actually Class 1.  \n",
    "\n",
    "---\n",
    "\n",
    "## **Conclusion**\n",
    "- The logistic regression model **performs well** with a **strong balance between precision and recall** across both classes.  \n",
    "- However, the **208 false positives and 200 false negatives** indicate potential areas for improvement.  \n",
    "- The model may slightly misclassify **some non-cases as cases (false positives)** and **some actual cases as non-cases (false negatives)**.  \n",
    "\n",
    "---\n",
    "\n",
    "## **Next Steps for Improvement**\n",
    "1. **Compare with Other Models**  \n",
    "   - Evaluate **Random Forest, XGBoost, or Neural Networks** to see if they offer better performance.  \n",
    "2. **Adjust Decision Threshold**  \n",
    "   - Instead of using the default 0.5 threshold, fine-tune it to **reduce false positives or false negatives**, depending on the priority.  \n",
    "3. **Feature Engineering**  \n",
    "   - Introduce **interaction terms**, **polynomial features**, or **remove less important variables\n"
   ]
  },
  {
   "cell_type": "markdown",
   "id": "839ca2fd-f7a6-4930-8bff-60d77de50b09",
   "metadata": {},
   "source": [
    "# **XGBOOST MODEL**"
   ]
  },
  {
   "cell_type": "code",
   "execution_count": 100,
   "id": "0d7a95f2-f914-482d-99f8-6d30decfbb39",
   "metadata": {},
   "outputs": [],
   "source": [
    "# Define a pipeline that includes data preprocessing and the XGBoost classifier\n",
    "xgb_pipe = Pipeline([\n",
    "    (\"processor\", processor),  # Step 1: Apply the preprocessing pipeline to the input data\n",
    "    (\"xgb_model\", XGBClassifier())  # Step 2: Train an XGBoost classifier on the processed data\n",
    "])\n",
    "\n",
    "# Fit the pipeline to the training data\n",
    "xgb_model = xgb_pipe.fit(x_train, y_train)  # Train the model using the training dataset"
   ]
  },
  {
   "cell_type": "code",
   "execution_count": 101,
   "id": "b70fa9fa-4bdb-4959-9997-88868c265f85",
   "metadata": {},
   "outputs": [
    {
     "name": "stdout",
     "output_type": "stream",
     "text": [
      "                Features  Importance\n",
      "11       smoking_history    0.412182\n",
      "12                   bmi    0.257408\n",
      "8             race:other    0.074162\n",
      "2                    age    0.053962\n",
      "9           hypertension    0.050560\n",
      "10         heart_disease    0.023970\n",
      "14   blood_glucose_level    0.019822\n",
      "1                 gender    0.018633\n",
      "7          race:hispanic    0.015104\n",
      "4   race:africanamerican    0.014423\n",
      "13           hba1c_level    0.014305\n",
      "6         race:caucasian    0.013638\n",
      "0                   year    0.012241\n",
      "3               location    0.009966\n",
      "5             race:asian    0.009625\n"
     ]
    }
   ],
   "source": [
    "# Extract feature importance scores from the trained XGBoost model\n",
    "xgb_importance = xgb_model.named_steps['xgb_model'].feature_importances_\n",
    "\n",
    "# Create a DataFrame to organize and display feature importance values\n",
    "xgb_importance_df = pd.DataFrame(\n",
    "    {\"Features\": x.columns, \"Importance\": xgb_importance}  # Map feature names to their importance scores\n",
    ")\n",
    "\n",
    "# Print the feature importance scores sorted in descending order\n",
    "print(xgb_importance_df.sort_values(by='Importance', ascending=False))\n"
   ]
  },
  {
   "cell_type": "markdown",
   "id": "92bb2d82-38cb-4639-8be9-f73930259ed3",
   "metadata": {},
   "source": [
    "# **Feature Importance Analysis - XGBoost Model**  \r\n",
    "\r\n",
    "## **Overview**  \r\n",
    "The table above represents the feature importance values derived from the XGBoost model. These values indicate the contribution of each feature to the model’s predictions, with higher values signifying greater importance.\r\n",
    "\r\n",
    "## **Key Insights**  \r\n",
    "\r\n",
    "### **1. Most Influential Features**  \r\n",
    "- **Smoking History (0.4122)** – The most significant predictor, suggesting that a history of smoking strongly correlates with the target outcome.  \r\n",
    "- **BMI (0.2574)** – Body Mass Index plays a crucial role, indicating that weight-related health factors are highly predictive.  \r\n",
    "- **Race: Other (0.0742)** – Individuals classified under \"Other\" in the race category have a notable impact, possibly due to underlying demographic or health disparities.  \r\n",
    "- **Age (0.0540)** – Although less influential than smoking history and BMI, age remains a key factor, reinforcing the general trend of increased health risks with age.  \r\n",
    "\r\n",
    "### **2. Moderately Important Features**  \r\n",
    "- **Hypertension (0.0506) & Heart Disease (0.0240)** – These cardiovascular conditions contribute to the model’s decision-making but are less dominant than lifestyle factors.  \r\n",
    "- **Blood Glucose Level (0.0198)** – While an important metabolic marker, it has a lower influence compared to smoking and BMI.  \r\n",
    "- **Gender (0.0186)** – Gender plays a minor role in predictions, suggesting a slight association with the target variable.  \r\n",
    "\r\n",
    "### **3. Least Significant Features**  \r\n",
    "- **Race Categories:**  \r\n",
    "  - **Hispanic (0.0151)**, **African American (0.0144)**, **Caucasian (0.0136)**, **Asian (0.0096)** – Race contributes but has relatively low impact, suggesting that other factors play a bigger role.  \r\n",
    "- **HbA1c Level (0.0143)** – A key diabetes marker, but its relatively lower importance suggests that other lifestyle and demographic variables may be stronger predictors.  \r\n",
    "- **Year (0.0122) & Location (0.0100)** – These have minimal influence on the model’s predictions, indicating temporal and geographical variations are not as critical in this dataset.  \r\n",
    "\r\n",
    "## **Summary**  \r\n",
    "The XGBoost model primarily relies on **smoking history, BMI, and age** as key predictors. Hypertension, heart disease, and race categories contribute moderately, while direct biomarkers like **HbA1c and blood glucose levels** show lower importance than expected. This suggests that lifestyle and demographic factors play a dominant role in determining the model’s predictions.  \r\n"
   ]
  },
  {
   "cell_type": "code",
   "execution_count": 102,
   "id": "b5fe6979-0d09-4fdd-b4c5-b38381d84779",
   "metadata": {},
   "outputs": [
    {
     "name": "stdout",
     "output_type": "stream",
     "text": [
      "0.9061154177433247\n",
      "              precision    recall  f1-score   support\n",
      "\n",
      "           0       0.92      0.89      0.90      1687\n",
      "           1       0.89      0.92      0.91      1713\n",
      "\n",
      "    accuracy                           0.90      3400\n",
      "   macro avg       0.90      0.90      0.90      3400\n",
      "weighted avg       0.90      0.90      0.90      3400\n",
      "\n",
      "\n",
      "[[1495  192]\n",
      " [ 135 1578]]\n"
     ]
    }
   ],
   "source": [
    "# Make predictions using the trained XGBoost model on the test dataset\n",
    "xgb_predict = xgb_model.predict(x_test)\n",
    "\n",
    "# Calculate the F1-score to measure the balance between precision and recall\n",
    "xgb_f1 = f1_score(y_test, xgb_predict)\n",
    "\n",
    "# Generate a classification report containing precision, recall, F1-score, and support for each class\n",
    "xgb_report = classification_report(y_test, xgb_predict)\n",
    "\n",
    "# Compute the confusion matrix to evaluate the number of true positives, true negatives, false positives, and false negatives\n",
    "xgb_matrix = confusion_matrix(y_test, xgb_predict)\n",
    "\n",
    "# Print the F1-score to assess the model's overall performance\n",
    "print(xgb_f1)\n",
    "\n",
    "# Print the detailed classification report for model evaluation\n",
    "print(xgb_report)\n",
    "\n",
    "# Print a blank line for better readability in the output\n",
    "print()\n",
    "\n",
    "# Print the confusion matrix to analyze the model’s classification performance\n",
    "print(xgb_matrix)\n"
   ]
  },
  {
   "cell_type": "markdown",
   "id": "31d384f7-c0b3-4e45-bb93-e118e2068e19",
   "metadata": {},
   "source": [
    "# **XGBoost Model Performance Analysis**\r\n",
    "\r\n",
    "## **Overview**\r\n",
    "The XGBoost model was evaluated on the test dataset, achieving an accuracy of **90.6%**, demonstrating strong predictive capability. Below is a detailed breakdown of the model’s evaluation metrics.\r\n",
    "\r\n",
    "## **Performance Metrics**\r\n",
    "- **Accuracy:** 90.6%  \r\n",
    "- **Precision:**\r\n",
    "  - **Class 0 (Negative Class):** 92%  \r\n",
    "  - **Class 1 (Positive Class):** 89%  \r\n",
    "- **Recall:**\r\n",
    "  - **Class 0:** 89%  \r\n",
    "  - **Class 1:** 92%  \r\n",
    "- **F1-Score:**  \r\n",
    "  - **Class 0:** 0.90  \r\n",
    "  - **Class 1:** 0.91  \r\n",
    "\r\n",
    "## **Confusion Matrix**\r\n",
    "\r\n",
    "| Actual \\ Predicted | Predicted 0 | Predicted 1 |\r\n",
    "|-------------------|------------|------------|\r\n",
    "| **Actual 0** (TN) | **1495**    | 192        |\r\n",
    "| **Actual 1** (FN) | 135        | **1578**   |\r\n",
    "\r\n",
    "### **Interpretation**\r\n",
    "- **True Negatives (TN):** **1495** cases correctly predicted as Class 0.  \r\n",
    "- **True Positives (TP):** **1578** cases correctly predicted as Class 1.  \r\n",
    "- **False Positives (FP):** **192** cases incorrectly predicted as Class 1.  \r\n",
    "- **False Negatives (FN):** **135** cases incorrectly predicted as Class 0.  \r\n",
    "\r\n",
    "## **Conclusion**\r\n",
    "The XGBoost model demonstrates **high accuracy, precision, and recall**, making it effective for classification tasks. Compared to traditional models like Logistic Regression, XGBoost leverages **gradient boosting techniques** to minimize errors and improve overall model performance. The model balances **precision and recall well**, ensuring minimal false positives and false negatives.\r\n",
    "\r\n",
    "---\r\n",
    "### **Next Steps:**\r\n",
    "- **Hyperparameter tuning** (e.g., adjusting learning rate, max depth, and number of estimators) to further optimize performance.\r\n",
    "- **Feature importance analysis** to identify the most influential variables.\r\n",
    "- **Ensemble techniques** (e.g., stacking with other models) to improve robustness.\r\n",
    "- **Deploying the model** in a real-world scenario to evaluate its performance on unseen data.\r\n"
   ]
  },
  {
   "cell_type": "code",
   "execution_count": null,
   "id": "88c54ac6-d8d4-4b50-8fde-685f80a698ff",
   "metadata": {},
   "outputs": [],
   "source": []
  }
 ],
 "metadata": {
  "kernelspec": {
   "display_name": "Python 3 (ipykernel)",
   "language": "python",
   "name": "python3"
  },
  "language_info": {
   "codemirror_mode": {
    "name": "ipython",
    "version": 3
   },
   "file_extension": ".py",
   "mimetype": "text/x-python",
   "name": "python",
   "nbconvert_exporter": "python",
   "pygments_lexer": "ipython3",
   "version": "3.11.4"
  }
 },
 "nbformat": 4,
 "nbformat_minor": 5
}
